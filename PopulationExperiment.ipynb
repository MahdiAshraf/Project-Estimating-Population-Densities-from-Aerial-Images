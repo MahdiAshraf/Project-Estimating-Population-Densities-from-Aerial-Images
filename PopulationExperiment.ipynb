{
  "nbformat": 4,
  "nbformat_minor": 0,
  "metadata": {
    "colab": {
      "name": "PopulationExperiment.ipynb",
      "provenance": [],
      "collapsed_sections": [],
      "machine_shape": "hm"
    },
    "kernelspec": {
      "name": "python3",
      "display_name": "Python 3"
    },
    "accelerator": "GPU"
  },
  "cells": [
    {
      "cell_type": "code",
      "metadata": {
        "id": "NnU5DGY3b-ya",
        "colab_type": "code",
        "colab": {}
      },
      "source": [
        "#Stands Imps\n",
        "import os\n",
        "import random\n",
        "\n",
        "import numpy as np\n",
        "import pandas as pd\n",
        "import matplotlib.pyplot as plt\n",
        "\n",
        "from tensorflow.python.keras.layers import Input, Dense, LeakyReLU, Conv2D, MaxPool2D, Flatten, Dropout\n",
        "from tensorflow.python.keras import backend as K\n",
        "from tensorflow.python.keras.models import Model\n",
        "from tensorflow.python.keras.callbacks import ReduceLROnPlateau\n"
      ],
      "execution_count": null,
      "outputs": []
    },
    {
      "cell_type": "code",
      "metadata": {
        "id": "qNmvGEUmcWIf",
        "colab_type": "code",
        "colab": {}
      },
      "source": [
        "#Define useful paths\n",
        "path_content = '/content'\n",
        "path_master = '/content/all'\n",
        "path_drive = '/content/drive/My Drive/'\n",
        "path_datasets = '/content/drive/My Drive/Datasets'\n",
        "path_mask = '/content/mask'"
      ],
      "execution_count": null,
      "outputs": []
    },
    {
      "cell_type": "code",
      "metadata": {
        "id": "2LWtxY3Ecweo",
        "colab_type": "code",
        "colab": {}
      },
      "source": [
        "#My needed things\n",
        "ch_dir_content()\n",
        "%run -i '/content/drive/My Drive/imports.py'"
      ],
      "execution_count": null,
      "outputs": []
    },
    {
      "cell_type": "code",
      "metadata": {
        "id": "tHFVTOx2dBv9",
        "colab_type": "code",
        "colab": {}
      },
      "source": [
        "#Extract images from zip folder\n",
        "from zipfile import ZipFile\n",
        "ch_dir_content()\n",
        "os.mkdir('all')\n",
        "\n",
        "with ZipFile(\"/content/drive/My Drive/Datasets/sat_final_r.zip\") as zipsat2:\n",
        "  \n",
        "  # Extract all the contents of zip file in different directory\n",
        "  zipsat2.extractall('/content/all')"
      ],
      "execution_count": null,
      "outputs": []
    },
    {
      "cell_type": "code",
      "metadata": {
        "id": "QJo2ULWNdOnT",
        "colab_type": "code",
        "colab": {}
      },
      "source": [
        "#Read in master file\n",
        "master = pd.read_csv(path_datasets+'/'+'master_finalr.csv', index_col=0)\n",
        "\n",
        "#Split into train, test, valid\n",
        "df = master[master.target <= 9000]\n",
        "df = master[master.target >= 2000]\n",
        "df = shuffle(df)\n",
        "\n",
        "train_num = int(0.7*len(df))\n",
        "valid_num = int(0.2*len(df))\n",
        "test_num  = int(0.1*len(df))\n",
        "\n",
        "#Create train, valid & test sets\n",
        "train_df = df.iloc[0:train_num]\n",
        "valid_df = df.iloc[train_num:train_num+valid_num]\n",
        "test_df  = df.iloc[train_num+valid_num:]"
      ],
      "execution_count": null,
      "outputs": []
    },
    {
      "cell_type": "code",
      "metadata": {
        "id": "MWu39NeKd-nD",
        "colab_type": "code",
        "colab": {
          "base_uri": "https://localhost:8080/",
          "height": 66
        },
        "outputId": "020f24fd-84f2-413b-f54b-5e4c908d7f41"
      },
      "source": [
        "#Create generators for iterative training\n",
        "path = path_master\n",
        "\n",
        "def preprocess_images(img):\n",
        "  return exposure.equalize_adapthist(img/255)\n",
        "\n",
        "train_datagen = image.ImageDataGenerator(preprocessing_function=preprocess_images)\n",
        "test_valid_datagen = image.ImageDataGenerator(preprocessing_function=preprocess_images)\n",
        "\n",
        "#Define image shape \n",
        "r = 300\n",
        "w = 300 \n",
        "c = 3\n",
        "\n",
        "#Define training generator\n",
        "train_generator = train_datagen.flow_from_dataframe(\n",
        "        dataframe=train_df,\n",
        "        directory=path,\n",
        "        x_col=\"filename\",\n",
        "        y_col=\"target\",\n",
        "        target_size=(r, w),\n",
        "        batch_size=30,\n",
        "        #color_mode='grayscale',\n",
        "        class_mode='raw')\n",
        "\n",
        "#Define valid generator\n",
        "validation_generator = test_valid_datagen.flow_from_dataframe(\n",
        "        dataframe=valid_df,\n",
        "        directory=path,\n",
        "        x_col=\"filename\",\n",
        "        y_col=\"target\",\n",
        "        #color_mode='grayscale',\n",
        "        target_size=(r, w),\n",
        "        batch_size=20,\n",
        "        class_mode='raw')\n",
        "\n",
        "#Define valid generator\n",
        "test_generator = test_valid_datagen.flow_from_dataframe(\n",
        "        dataframe=test_df,\n",
        "        directory=path,\n",
        "        x_col=\"filename\",\n",
        "        y_col=\"target\",\n",
        "        target_size=(r, w),\n",
        "        #color_mode='grayscale',\n",
        "        batch_size=20,\n",
        "        class_mode='raw')"
      ],
      "execution_count": null,
      "outputs": [
        {
          "output_type": "stream",
          "text": [
            "Found 12009 validated image filenames.\n",
            "Found 3431 validated image filenames.\n",
            "Found 1717 validated image filenames.\n"
          ],
          "name": "stdout"
        }
      ]
    },
    {
      "cell_type": "code",
      "metadata": {
        "id": "9lo1cYShHONx",
        "colab_type": "code",
        "colab": {
          "base_uri": "https://localhost:8080/",
          "height": 580
        },
        "outputId": "297149a7-54d5-401d-ff3c-40185a5e13db"
      },
      "source": [
        "plot_df_hist(master, 'target')"
      ],
      "execution_count": null,
      "outputs": [
        {
          "output_type": "display_data",
          "data": {
            "image/png": "[encoded data removed]",
            "text/plain": [
              "<Figure size 1600x640 with 1 Axes>"
            ]
          },
          "metadata": {
            "tags": []
          }
        }
      ]
    },
    {
      "cell_type": "code",
      "metadata": {
        "id": "xabCY7jUgyp5",
        "colab_type": "code",
        "colab": {}
      },
      "source": [
        "def res_block(x, y, filter, kernel):\n",
        "\n",
        "  #Convolve with stride 1 to retain dims and pass activations\n",
        "  res = tf.keras.layers.Conv2D(kernel_size=kernel, filters=filter, strides=1, padding='same', activation='relu')(x)\n",
        "  res = tf.keras.layers.BatchNormalization()(res)\n",
        "\n",
        "  #2 convolves serve for identity mapping\n",
        "  res = tf.keras.layers.Conv2D(kernel_size=kernel, filters=filter, strides=1, padding='same', activation='relu')(res)\n",
        "  \n",
        "  #Add the skip connection to the desired layer\n",
        "  res = tf.keras.layers.Add()([y, res])\n",
        "  res = tf.keras.layers.BatchNormalization()(res)\n",
        "  \n",
        "  return res"
      ],
      "execution_count": null,
      "outputs": []
    },
    {
      "cell_type": "code",
      "metadata": {
        "id": "NgnUlfYLhdvz",
        "colab_type": "code",
        "colab": {
          "base_uri": "https://localhost:8080/",
          "height": 911
        },
        "outputId": "4cd9305e-d1f1-484b-b87f-d2a2634098ad"
      },
      "source": [
        "#Construct model architecture\n",
        "K.clear_session()\n",
        "sat_images = Input(shape=(300,300,3))\n",
        "b = BatchNormalization()(sat_images)\n",
        "\n",
        "x1 = Conv2D(filters=24, kernel_size=9, strides = 2, activation='relu',padding='same')(b)\n",
        "d = Dropout(rate=0.15)(x1)\n",
        "x2 = Conv2D(filters=24, kernel_size=(5,5), strides=1, activation='relu',padding='same')(d)\n",
        "r = res_block(x1, x2, 24, 3)\n",
        "d = Dropout(rate=0.2)(r)\n",
        "\n",
        "x3 = Conv2D(filters=24, kernel_size=3, strides=2, activation='relu', padding='same')(d)\n",
        "x4 = Conv2D(filters=24, kernel_size=1, strides=1, activation='relu', padding='same')(x3)\n",
        "r = res_block(x3, x4, 24, 3)\n",
        "d = Dropout(rate=0.15)(r)\n",
        "\n",
        "#Fully Connected\n",
        "f = Flatten()(d)\n",
        "D = Dense(150, activation='relu')(f)\n",
        "\n",
        "#Output layer\n",
        "output = Dense(1, activation='linear', name='Pop_Est')(D)\n",
        "\n",
        "#Create model\n",
        "model = Model(inputs=sat_images, outputs=output)\n",
        "\n",
        "#Compile model\n",
        "model.compile(optimizer=tf.keras.optimizers.Adam(1e-4), loss='mean_absolute_percentage_error')\n",
        "print(model.summary())"
      ],
      "execution_count": null,
      "outputs": [
        {
          "output_type": "stream",
          "text": [
            "Model: \"model\"\n",
            "__________________________________________________________________________________________________\n",
            "Layer (type)                    Output Shape         Param #     Connected to                     \n",
            "==================================================================================================\n",
            "input_1 (InputLayer)            [(None, 300, 300, 3) 0                                            \n",
            "__________________________________________________________________________________________________\n",
            "batch_normalization (BatchNorma (None, 300, 300, 3)  12          input_1[0][0]                    \n",
            "__________________________________________________________________________________________________\n",
            "conv2d (Conv2D)                 (None, 150, 150, 24) 5856        batch_normalization[0][0]        \n",
            "__________________________________________________________________________________________________\n",
            "conv2d_2 (Conv2D)               (None, 150, 150, 24) 5208        conv2d[0][0]                     \n",
            "__________________________________________________________________________________________________\n",
            "dropout (Dropout)               (None, 150, 150, 24) 0           conv2d[0][0]                     \n",
            "__________________________________________________________________________________________________\n",
            "batch_normalization_1 (BatchNor (None, 150, 150, 24) 96          conv2d_2[0][0]                   \n",
            "__________________________________________________________________________________________________\n",
            "conv2d_1 (Conv2D)               (None, 150, 150, 24) 14424       dropout[0][0]                    \n",
            "__________________________________________________________________________________________________\n",
            "conv2d_3 (Conv2D)               (None, 150, 150, 24) 5208        batch_normalization_1[0][0]      \n",
            "__________________________________________________________________________________________________\n",
            "add (Add)                       (None, 150, 150, 24) 0           conv2d_1[0][0]                   \n",
            "                                                                 conv2d_3[0][0]                   \n",
            "__________________________________________________________________________________________________\n",
            "batch_normalization_2 (BatchNor (None, 150, 150, 24) 96          add[0][0]                        \n",
            "__________________________________________________________________________________________________\n",
            "dropout_1 (Dropout)             (None, 150, 150, 24) 0           batch_normalization_2[0][0]      \n",
            "__________________________________________________________________________________________________\n",
            "conv2d_4 (Conv2D)               (None, 75, 75, 24)   5208        dropout_1[0][0]                  \n",
            "__________________________________________________________________________________________________\n",
            "conv2d_6 (Conv2D)               (None, 75, 75, 24)   5208        conv2d_4[0][0]                   \n",
            "__________________________________________________________________________________________________\n",
            "batch_normalization_3 (BatchNor (None, 75, 75, 24)   96          conv2d_6[0][0]                   \n",
            "__________________________________________________________________________________________________\n",
            "conv2d_5 (Conv2D)               (None, 75, 75, 24)   600         conv2d_4[0][0]                   \n",
            "__________________________________________________________________________________________________\n",
            "conv2d_7 (Conv2D)               (None, 75, 75, 24)   5208        batch_normalization_3[0][0]      \n",
            "__________________________________________________________________________________________________\n",
            "add_1 (Add)                     (None, 75, 75, 24)   0           conv2d_5[0][0]                   \n",
            "                                                                 conv2d_7[0][0]                   \n",
            "__________________________________________________________________________________________________\n",
            "batch_normalization_4 (BatchNor (None, 75, 75, 24)   96          add_1[0][0]                      \n",
            "__________________________________________________________________________________________________\n",
            "dropout_2 (Dropout)             (None, 75, 75, 24)   0           batch_normalization_4[0][0]      \n",
            "__________________________________________________________________________________________________\n",
            "flatten (Flatten)               (None, 135000)       0           dropout_2[0][0]                  \n",
            "__________________________________________________________________________________________________\n",
            "dense (Dense)                   (None, 150)          20250150    flatten[0][0]                    \n",
            "__________________________________________________________________________________________________\n",
            "Pop_Est (Dense)                 (None, 1)            151         dense[0][0]                      \n",
            "==================================================================================================\n",
            "Total params: 20,297,617\n",
            "Trainable params: 20,297,419\n",
            "Non-trainable params: 198\n",
            "__________________________________________________________________________________________________\n",
            "None\n"
          ],
          "name": "stdout"
        }
      ]
    },
    {
      "cell_type": "code",
      "metadata": {
        "id": "CruxlAd8HqFC",
        "colab_type": "code",
        "colab": {
          "base_uri": "https://localhost:8080/",
          "height": 277
        },
        "outputId": "44f0e9d3-5326-4393-922d-afc662483fa4"
      },
      "source": [
        "#Fit model\n",
        "history = model.fit(\n",
        "          train_generator,\n",
        "          steps_per_epoch=int(len(train_df)/30),\n",
        "          epochs=10,\n",
        "          validation_data=validation_generator,\n",
        "          validation_steps=int(len(valid_df)/20))\n",
        "                "
      ],
      "execution_count": null,
      "outputs": [
        {
          "output_type": "stream",
          "text": [
            "Epoch 1/10\n",
            "400/400 [==============================] - 871s 2s/step - loss: 30.0295 - val_loss: 31.2632\n",
            "Epoch 2/10\n",
            "400/400 [==============================] - 819s 2s/step - loss: 29.6668 - val_loss: 32.6370\n",
            "Epoch 3/10\n",
            "400/400 [==============================] - 819s 2s/step - loss: 29.2012 - val_loss: 35.7644\n",
            "Epoch 4/10\n",
            "400/400 [==============================] - 814s 2s/step - loss: 28.7671 - val_loss: 32.4788\n",
            "Epoch 5/10\n",
            "400/400 [==============================] - 820s 2s/step - loss: 28.4732 - val_loss: 32.4837\n",
            "Epoch 6/10\n",
            "400/400 [==============================] - 811s 2s/step - loss: 28.0147 - val_loss: 31.4400\n",
            "Epoch 7/10\n",
            "400/400 [==============================] - 829s 2s/step - loss: 27.7527 - val_loss: 31.7557\n",
            "Epoch 8/10\n",
            "292/400 [====================>.........] - ETA: 2:51 - loss: 27.4201"
          ],
          "name": "stdout"
        }
      ]
    }
  ]
}